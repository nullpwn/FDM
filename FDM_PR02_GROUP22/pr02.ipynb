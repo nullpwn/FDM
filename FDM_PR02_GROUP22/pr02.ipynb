{
 "cells": [
  {
   "cell_type": "code",
   "execution_count": 1,
   "metadata": {},
   "outputs": [],
   "source": [
    "import pandas as pd\n",
    "import numpy as np\n",
    "from sklearn.tree import DecisionTreeClassifier\n",
    "# import svm\n",
    "from sklearn.svm import SVC\n",
    "from sklearn.model_selection import train_test_split\n",
    "from sklearn.model_selection import GridSearchCV\n",
    "# import knn\n",
    "from sklearn.neighbors import KNeighborsClassifier\n",
    "from sklearn.metrics import confusion_matrix\n",
    "from sklearn.ensemble import RandomForestClassifier"
   ]
  },
  {
   "cell_type": "code",
   "execution_count": 2,
   "metadata": {},
   "outputs": [
    {
     "data": {
      "text/html": [
       "<div>\n",
       "<style scoped>\n",
       "    .dataframe tbody tr th:only-of-type {\n",
       "        vertical-align: middle;\n",
       "    }\n",
       "\n",
       "    .dataframe tbody tr th {\n",
       "        vertical-align: top;\n",
       "    }\n",
       "\n",
       "    .dataframe thead th {\n",
       "        text-align: right;\n",
       "    }\n",
       "</style>\n",
       "<table border=\"1\" class=\"dataframe\">\n",
       "  <thead>\n",
       "    <tr style=\"text-align: right;\">\n",
       "      <th></th>\n",
       "      <th>Label</th>\n",
       "    </tr>\n",
       "    <tr>\n",
       "      <th>ID</th>\n",
       "      <th></th>\n",
       "    </tr>\n",
       "  </thead>\n",
       "  <tbody>\n",
       "    <tr>\n",
       "      <th>1</th>\n",
       "      <td>binocular</td>\n",
       "    </tr>\n",
       "    <tr>\n",
       "      <th>2</th>\n",
       "      <td>chair</td>\n",
       "    </tr>\n",
       "    <tr>\n",
       "      <th>3</th>\n",
       "      <td>tick</td>\n",
       "    </tr>\n",
       "    <tr>\n",
       "      <th>4</th>\n",
       "      <td>minaret</td>\n",
       "    </tr>\n",
       "    <tr>\n",
       "      <th>5</th>\n",
       "      <td>Faces</td>\n",
       "    </tr>\n",
       "  </tbody>\n",
       "</table>\n",
       "</div>"
      ],
      "text/plain": [
       "        Label\n",
       "ID           \n",
       "1   binocular\n",
       "2       chair\n",
       "3        tick\n",
       "4     minaret\n",
       "5       Faces"
      ]
     },
     "execution_count": 2,
     "metadata": {},
     "output_type": "execute_result"
    }
   ],
   "source": [
    "# read the csv file, skip the first row, use ';' as separator, name the columns\n",
    "images = pd.read_csv('images.csv', skiprows=1, sep=';', header=None, names=['ID', 'Label'])\n",
    "images.set_index('ID', inplace=True)\n",
    "images.head()"
   ]
  },
  {
   "cell_type": "code",
   "execution_count": 3,
   "metadata": {},
   "outputs": [
    {
     "name": "stdout",
     "output_type": "stream",
     "text": [
      "Images file Shape:  (9144, 1)\n"
     ]
    }
   ],
   "source": [
    "print(\"Images file Shape: \", images.shape)"
   ]
  },
  {
   "cell_type": "code",
   "execution_count": 4,
   "metadata": {},
   "outputs": [
    {
     "name": "stdout",
     "output_type": "stream",
     "text": [
      "    1   2   3   4   5   6   7   8   9   10  ...  71  72  73  74  75  76  77  \\\n",
      "ID                                          ...                               \n",
      "1    1   1   1   2   2   2   4   4   2   2  ...   1   2   2   3   3   1   1   \n",
      "2    2   2   1   0   3   0   4   2   2   4  ...   1   4   3   3   5   2   2   \n",
      "3    5   1   6   2   6   3   2   7   1   6  ...   3   4   7   0   6   3   2   \n",
      "4    0   0   0   0   0   0   0   1   0   1  ...   0   0   1   0   1   0   0   \n",
      "5    1   6   4   2   2   0   6   6   5   4  ...   6   2   6   3   3   6   1   \n",
      "\n",
      "    78  79  80  \n",
      "ID              \n",
      "1    1   1   2  \n",
      "2    1   0   4  \n",
      "3    7   3   6  \n",
      "4    1   0   1  \n",
      "5    2   5   6  \n",
      "\n",
      "[5 rows x 80 columns]\n"
     ]
    }
   ],
   "source": [
    "edges = pd.read_csv('EdgeHistogram.csv', sep=';', skiprows=1, header=None)\n",
    "edges.set_index(0, inplace=True)\n",
    "# change the index name to ID\n",
    "edges.index.names = ['ID']\n",
    "print(edges.head())"
   ]
  },
  {
   "cell_type": "code",
   "execution_count": 5,
   "metadata": {},
   "outputs": [
    {
     "name": "stdout",
     "output_type": "stream",
     "text": [
      "        Label  1  2  3  4  5  6  7  8  9  ...  71  72  73  74  75  76  77  78  \\\n",
      "ID                                        ...                                   \n",
      "1   binocular  1  1  1  2  2  2  4  4  2  ...   1   2   2   3   3   1   1   1   \n",
      "2       chair  2  2  1  0  3  0  4  2  2  ...   1   4   3   3   5   2   2   1   \n",
      "3        tick  5  1  6  2  6  3  2  7  1  ...   3   4   7   0   6   3   2   7   \n",
      "4     minaret  0  0  0  0  0  0  0  1  0  ...   0   0   1   0   1   0   0   1   \n",
      "5       Faces  1  6  4  2  2  0  6  6  5  ...   6   2   6   3   3   6   1   2   \n",
      "\n",
      "    79  80  \n",
      "ID          \n",
      "1    1   2  \n",
      "2    0   4  \n",
      "3    3   6  \n",
      "4    0   1  \n",
      "5    5   6  \n",
      "\n",
      "[5 rows x 81 columns]\n"
     ]
    }
   ],
   "source": [
    "# merge the two dataframes\n",
    "df = pd.merge(images, edges, on='ID')\n",
    "print(df.head())"
   ]
  },
  {
   "cell_type": "code",
   "execution_count": 6,
   "metadata": {},
   "outputs": [
    {
     "name": "stdout",
     "output_type": "stream",
     "text": [
      "X_train Shape:  (7315, 80)\n",
      "X_test Shape:  (1829, 80)\n"
     ]
    }
   ],
   "source": [
    "#train test split\n",
    "X = df.drop('Label', axis=1)\n",
    "y = df['Label']\n",
    "X_train, X_test, y_train, y_test = train_test_split(X, y, test_size=0.2, random_state=42)\n",
    "print(\"X_train Shape: \", X_train.shape)\n",
    "print(\"X_test Shape: \", X_test.shape)"
   ]
  },
  {
   "cell_type": "code",
   "execution_count": 7,
   "metadata": {},
   "outputs": [],
   "source": [
    "models = {'RandomForest': RandomForestClassifier(),\n",
    "          'SVM': SVC(),\n",
    "          'KNN': KNeighborsClassifier()}\n",
    "\n",
    "params = {'RandomForest': {'n_estimators': [100, 200, 300, 400],\n",
    "                        'max_depth': [1, 2, 3, 4, 5, 6],\n",
    "                        'criterion': ['gini', 'entropy']},\n",
    "          'SVM': {'C': [0.1, 1, 2, 3, 4],\n",
    "                  'gamma': [1, 0.1, 0.01, 0.001],\n",
    "                  'kernel': ['rbf', 'linear']},\n",
    "          'KNN': {'n_neighbors': [3, 5, 7, 9],\n",
    "                  'weights': ['uniform', 'distance'],\n",
    "                  'metric': ['euclidean', 'manhattan']}}"
   ]
  },
  {
   "cell_type": "code",
   "execution_count": 8,
   "metadata": {},
   "outputs": [
    {
     "name": "stdout",
     "output_type": "stream",
     "text": [
      "Accuracy for model RandomForestClassifier is: 0.3513328776486671\n",
      "Accuracy for model SVC is: 0.5680109364319892\n",
      "Accuracy for model KNeighborsClassifier is: 0.49719753930280247\n"
     ]
    }
   ],
   "source": [
    "# path = 'group022_result'\n",
    "# write a function that takes a model(we have total 3) so we get three files and get its confusion matrix and save it to a csv file like in the format group022_result1, group022_result2, etc. In the file row 1 and column\n",
    "# 1 should be class labels themselves, and the labels should be sorted in alphabetical order. The rest of the cells should be the confusion matrix values.\n",
    "for i, k in enumerate(models):\n",
    "    model = models[k]\n",
    "    param = params[k]\n",
    "    grid = GridSearchCV(model, param, cv=5)\n",
    "    grid.fit(X_train, y_train)\n",
    "    grid_pred = grid.predict(X_test)\n",
    "    # print accuracy\n",
    "    print(\"Accuracy for model {} is: {}\".format(model.__class__.__name__, grid.best_score_))\n",
    "    \n",
    "    best_params = grid.best_params_\n",
    "    hyper_values = {'classifier_name': model.__class__.__name__, 'library': 'sklearn'}\n",
    "    hyper_values.update(best_params)\n",
    "    pd.DataFrame.from_dict(data=hyper_values, orient='index').to_csv('group022_parameters' + str(i+1) + '.csv', header=False)\n",
    "    \n",
    "    grid_cm = confusion_matrix(y_test, grid_pred)\n",
    "    # print confusion matrix in dataframe where row and column names are class labels\n",
    "    grid_cm_df = pd.DataFrame(grid_cm, columns=np.unique(y_test), index=np.unique(y_test))\n",
    "    grid_cm_df.index.name = 'Actual'\n",
    "    grid_cm_df.columns.name = 'Predicted'\n",
    "    # sort index and columns alphabetically\n",
    "    grid_cm_df.index = sorted(grid_cm_df.index.values, key=lambda x: x.lower())\n",
    "    grid_cm_df.columns = sorted(grid_cm_df.columns.values, key=lambda x: x.lower())\n",
    "    # sace this df to csv\n",
    "    grid_cm_df.to_csv('group022_result' + str(i+1) + '.csv')"
   ]
  }
 ],
 "metadata": {
  "kernelspec": {
   "display_name": "Python 3",
   "language": "python",
   "name": "python3"
  },
  "language_info": {
   "codemirror_mode": {
    "name": "ipython",
    "version": 3
   },
   "file_extension": ".py",
   "mimetype": "text/x-python",
   "name": "python",
   "nbconvert_exporter": "python",
   "pygments_lexer": "ipython3",
   "version": "3.11.7"
  }
 },
 "nbformat": 4,
 "nbformat_minor": 2
}
